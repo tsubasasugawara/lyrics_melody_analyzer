{
 "cells": [
  {
   "cell_type": "code",
   "execution_count": 1,
   "metadata": {},
   "outputs": [],
   "source": [
    "import os\n",
    "\n",
    "os.chdir(\"../\")"
   ]
  },
  {
   "cell_type": "code",
   "execution_count": 2,
   "metadata": {},
   "outputs": [],
   "source": [
    "import glob\n",
    "\n",
    "mscx_path_list = []\n",
    "for item in glob.glob(\"./xmls/mscx/*\"):\n",
    "    mscx_path_list.append(os.path.abspath(item))\n",
    "mscx_path_list.sort()\n",
    "\n",
    "tstree_path_list = []\n",
    "for item in glob.glob(\"./xmls/tstree/*\"):\n",
    "    tstree_path_list.append(os.path.abspath(item))\n",
    "tstree_path_list.sort()"
   ]
  },
  {
   "cell_type": "code",
   "execution_count": 3,
   "metadata": {},
   "outputs": [],
   "source": [
    "from alm.lyrics import *\n",
    "from alm.melody import *\n",
    "from alm.comparator import *\n",
    "from alm.utils import io\n",
    "import pprint"
   ]
  },
  {
   "cell_type": "code",
   "execution_count": 4,
   "metadata": {},
   "outputs": [],
   "source": [
    "def calc_word_matched_rate(mscx_path_list: list, tstree_path_list: list,):\n",
    "    parser = grammar_parser.GrammarParser(\"ja_ginza\")\n",
    "\n",
    "    res = []\n",
    "\n",
    "    if len(mscx_path_list) != len(tstree_path_list):\n",
    "        return res\n",
    "\n",
    "    for i in range(len(mscx_path_list)):\n",
    "        mscx_path = mscx_path_list[i]\n",
    "        ts_path = tstree_path_list[i]\n",
    "\n",
    "        lyrics_notes_dict = lyrics_extractor.extract_lyrics(mscx_path)\n",
    "        doc = parser.parse(lyrics_notes_dict[lyrics_extractor.LYRICS_KEY])\n",
    "        lyrics_tree = parser.to_tree(doc)\n",
    "        words_notes_dict = {}\n",
    "        associating_lyrics_melody.explore_words_in_tree(lyrics_tree, words_notes_dict)\n",
    "        words_list = associating_lyrics_melody.associate_word_list_notes(words_notes_dict, lyrics_notes_dict)\n",
    "\n",
    "        melody_tree = time_span_tree.tstree_xml_2_struct(ts_path)\n",
    "\n",
    "        rate = word_matched_rate_calculator.calc_word_matched_rate(words_list, melody_tree)\n",
    "        rate.section_name = io.get_file_name(mscx_path)\n",
    "\n",
    "        res.append(rate)\n",
    "    \n",
    "    return res"
   ]
  },
  {
   "cell_type": "code",
   "execution_count": 5,
   "metadata": {},
   "outputs": [],
   "source": [
    "word_matched_rates = calc_word_matched_rate(mscx_path_list, tstree_path_list)"
   ]
  },
  {
   "cell_type": "code",
   "execution_count": 6,
   "metadata": {},
   "outputs": [],
   "source": [
    "word_matched_rate_dict = {}\n",
    "for item in word_matched_rates:\n",
    "    song_name = item.section_name[:-2]\n",
    "    section = item.section_name[-1]\n",
    "\n",
    "    if song_name not in word_matched_rate_dict:\n",
    "        word_matched_rate_dict[song_name] = [-1, -1, -1, -1]\n",
    "\n",
    "    if section == \"A\":\n",
    "        word_matched_rate_dict[song_name][0] = item.total_words_number\n",
    "        word_matched_rate_dict[song_name][1] = item.matched_words_number\n",
    "    elif section == \"S\":\n",
    "        word_matched_rate_dict[song_name][2] = item.total_words_number\n",
    "        word_matched_rate_dict[song_name][3] = item.matched_words_number\n",
    "\n",
    "res = [] \n",
    "for key, value in word_matched_rate_dict.items():\n",
    "    value.insert(0, key)\n",
    "    res.append(value)\n",
    "\n",
    "io.output_csv(\n",
    "    \"./csv/word_matched_rate.csv\",\n",
    "    [\"楽曲名\", \"Aメロの総単語数\", \"Aメロの一致した単語数\", \"サビの総単語数\", \"サビの一致した単語数\"],\n",
    "    res\n",
    ")"
   ]
  }
 ],
 "metadata": {
  "kernelspec": {
   "display_name": "Python 3",
   "language": "python",
   "name": "python3"
  },
  "language_info": {
   "codemirror_mode": {
    "name": "ipython",
    "version": 3
   },
   "file_extension": ".py",
   "mimetype": "text/x-python",
   "name": "python",
   "nbconvert_exporter": "python",
   "pygments_lexer": "ipython3",
   "version": "3.11.4"
  },
  "orig_nbformat": 4
 },
 "nbformat": 4,
 "nbformat_minor": 2
}
