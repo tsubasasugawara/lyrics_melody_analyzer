{
 "cells": [
  {
   "cell_type": "code",
   "execution_count": 1,
   "metadata": {},
   "outputs": [],
   "source": [
    "import os\n",
    "\n",
    "os.chdir(\"../\")"
   ]
  },
  {
   "cell_type": "code",
   "execution_count": 2,
   "metadata": {},
   "outputs": [],
   "source": [
    "import glob\n",
    "\n",
    "mscx_path_list = []\n",
    "for item in glob.glob(\"./xmls/mscx/*\"):\n",
    "    mscx_path_list.append(os.path.abspath(item))\n",
    "mscx_path_list.sort()\n",
    "\n",
    "tstree_path_list = []\n",
    "for item in glob.glob(\"./xmls/tstree/*\"):\n",
    "    tstree_path_list.append(os.path.abspath(item))\n",
    "tstree_path_list.sort()"
   ]
  },
  {
   "cell_type": "code",
   "execution_count": 3,
   "metadata": {},
   "outputs": [],
   "source": [
    "from alm.lyrics import *\n",
    "from alm.melody import *\n",
    "from alm.comparator import *\n",
    "from alm.utils import io\n",
    "import pprint"
   ]
  },
  {
   "cell_type": "code",
   "execution_count": 4,
   "metadata": {},
   "outputs": [],
   "source": [
    "def calc_word_match_rate(mscx_path_list: list, tstree_path_list: list,):\n",
    "    parser = grammar_parser.GrammarParser(\"ja_ginza\")\n",
    "\n",
    "    res = []\n",
    "\n",
    "    if len(mscx_path_list) != len(tstree_path_list):\n",
    "        return res\n",
    "\n",
    "    for i in range(len(mscx_path_list)):\n",
    "        mscx_path = mscx_path_list[i]\n",
    "        ts_path = tstree_path_list[i]\n",
    "\n",
    "        lyrics_notes_map = lyrics_extractor.extract_lyrics(mscx_path)\n",
    "        doc = parser.parse(lyrics_notes_map[lyrics_extractor.LYRICS_KEY])\n",
    "        lyrics_tree = parser.to_tree(doc)\n",
    "        words_notes_map = {}\n",
    "        associating_lyrics_melody.explore_words_in_tree(lyrics_tree, words_notes_map)\n",
    "        words_list = associating_lyrics_melody.associate_word_list_notes(words_notes_map, lyrics_notes_map)\n",
    "\n",
    "        melody_tree = time_span_tree.tstree_xml_2_struct(ts_path)\n",
    "\n",
    "        rate = word_match_rate_calculator.calc_word_match_rate(words_list, melody_tree)\n",
    "        rate .section_name = io.get_file_name(mscx_path)\n",
    "\n",
    "        res.append([rate.section_name, rate.words_number, rate.match_words_number, rate.words_number - rate.match_words_number, rate.match_rate])\n",
    "    \n",
    "    return res"
   ]
  },
  {
   "cell_type": "code",
   "execution_count": 5,
   "metadata": {},
   "outputs": [
    {
     "name": "stdout",
     "output_type": "stream",
     "text": [
      "[['BE_FREE_A', 20, 17, 3, 0.85],\n",
      " ['BE_FREE_S', 28, 22, 6, 0.7857142857142857],\n",
      " ['SUN_SHINE!!!_A', 45, 27, 18, 0.6],\n",
      " ['SUN_SHINE!!!_S', 21, 11, 10, 0.5238095238095238],\n",
      " ['beautiful_days_A', 27, 22, 5, 0.8148148148148148],\n",
      " ['beautiful_days_S', 35, 26, 9, 0.7428571428571429],\n",
      " ['no_more_war_A', 59, 36, 23, 0.6101694915254238],\n",
      " ['no_more_war_S', 17, 10, 7, 0.5882352941176471],\n",
      " ['たけてん_A', 28, 23, 5, 0.8214285714285714],\n",
      " ['たけてん_S', 38, 26, 12, 0.6842105263157895],\n",
      " ['オレンジ_A', 33, 25, 8, 0.7575757575757576],\n",
      " ['オレンジ_S', 60, 44, 16, 0.7333333333333333],\n",
      " ['キセキ_A', 25, 18, 7, 0.72],\n",
      " ['キセキ_S', 42, 27, 15, 0.6428571428571429],\n",
      " ['サヨナラから始めよう_A', 56, 36, 20, 0.6428571428571429],\n",
      " ['サヨナラから始めよう_S', 17, 13, 4, 0.7647058823529411],\n",
      " ['ビリーヴ_A', 43, 31, 12, 0.7209302325581395],\n",
      " ['ビリーヴ_S', 46, 29, 17, 0.6304347826086957],\n",
      " ['ルーキーズ_A', 57, 38, 19, 0.6666666666666666],\n",
      " ['ルーキーズ_S', 43, 26, 17, 0.6046511627906976],\n",
      " ['人_A', 62, 50, 12, 0.8064516129032258],\n",
      " ['人_S', 38, 27, 11, 0.7105263157894737],\n",
      " ['刹那_A', 24, 18, 6, 0.75],\n",
      " ['刹那_S', 25, 19, 6, 0.76],\n",
      " ['君想い_A', 58, 44, 14, 0.7586206896551724],\n",
      " ['君想い_S', 27, 15, 12, 0.5555555555555556],\n",
      " ['愛唄_A', 39, 21, 18, 0.5384615384615384],\n",
      " ['愛唄_S', 29, 21, 8, 0.7241379310344828],\n",
      " ['扉_A', 45, 32, 13, 0.7111111111111111],\n",
      " ['扉_S', 29, 25, 4, 0.8620689655172413],\n",
      " ['旅立ち_A', 30, 25, 5, 0.8333333333333334],\n",
      " ['旅立ち_S', 28, 20, 8, 0.7142857142857143],\n",
      " ['星影のエール_A', 30, 19, 11, 0.6333333333333333],\n",
      " ['星影のエール_S', 29, 19, 10, 0.6551724137931034],\n",
      " ['涙空_A', 55, 34, 21, 0.6181818181818182],\n",
      " ['涙空_S', 13, 9, 4, 0.6923076923076923],\n",
      " ['花唄_A', 42, 30, 12, 0.7142857142857143],\n",
      " ['花唄_S', 29, 24, 5, 0.8275862068965517],\n",
      " ['遥か_A', 39, 20, 19, 0.5128205128205128],\n",
      " ['遥か_S', 30, 26, 4, 0.8666666666666667]]\n"
     ]
    }
   ],
   "source": [
    "res = calc_word_match_rate(mscx_path_list, tstree_path_list)\n",
    "pprint.pprint(res)"
   ]
  }
 ],
 "metadata": {
  "kernelspec": {
   "display_name": "Python 3",
   "language": "python",
   "name": "python3"
  },
  "language_info": {
   "codemirror_mode": {
    "name": "ipython",
    "version": 3
   },
   "file_extension": ".py",
   "mimetype": "text/x-python",
   "name": "python",
   "nbconvert_exporter": "python",
   "pygments_lexer": "ipython3",
   "version": "3.11.4"
  },
  "orig_nbformat": 4
 },
 "nbformat": 4,
 "nbformat_minor": 2
}
