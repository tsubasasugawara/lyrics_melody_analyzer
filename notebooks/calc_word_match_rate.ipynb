{
 "cells": [
  {
   "cell_type": "code",
   "execution_count": 1,
   "metadata": {},
   "outputs": [],
   "source": [
    "import os\n",
    "\n",
    "os.chdir(\"../\")"
   ]
  },
  {
   "cell_type": "code",
   "execution_count": 2,
   "metadata": {},
   "outputs": [],
   "source": [
    "import glob\n",
    "\n",
    "mscx_path_list = []\n",
    "for item in glob.glob(\"./xmls/mscx/*\"):\n",
    "    mscx_path_list.append(os.path.abspath(item))\n",
    "mscx_path_list.sort()\n",
    "\n",
    "tstree_path_list = []\n",
    "for item in glob.glob(\"./xmls/tstree/*\"):\n",
    "    tstree_path_list.append(os.path.abspath(item))\n",
    "tstree_path_list.sort()"
   ]
  },
  {
   "cell_type": "code",
   "execution_count": 3,
   "metadata": {},
   "outputs": [],
   "source": [
    "from alm.lyrics import *\n",
    "from alm.melody import *\n",
    "from alm.comparator import *\n",
    "from alm.utils import io\n",
    "import pprint"
   ]
  },
  {
   "cell_type": "code",
   "execution_count": 4,
   "metadata": {},
   "outputs": [],
   "source": [
    "def calc_word_match_rate(mscx_path_list: list, tstree_path_list: list,):\n",
    "    parser = grammar_parser.GrammarParser(\"ja_ginza\")\n",
    "\n",
    "    res = []\n",
    "\n",
    "    if len(mscx_path_list) != len(tstree_path_list):\n",
    "        return res\n",
    "\n",
    "    for i in range(len(mscx_path_list)):\n",
    "        mscx_path = mscx_path_list[i]\n",
    "        ts_path = tstree_path_list[i]\n",
    "\n",
    "        lyrics_notes_map = lyrics_extractor.extract_lyrics(mscx_path)\n",
    "        doc = parser.parse(lyrics_notes_map[lyrics_extractor.LYRICS_KEY])\n",
    "        lyrics_tree = parser.to_tree(doc)\n",
    "        words_notes_map = {}\n",
    "        associating_lyrics_melody.explore_words_in_tree(lyrics_tree, words_notes_map)\n",
    "        words_list = associating_lyrics_melody.associate_word_list_notes(words_notes_map, lyrics_notes_map)\n",
    "\n",
    "        melody_tree = time_span_tree.tstree_xml_2_struct(ts_path)\n",
    "\n",
    "        rate = word_match_rate_calculator.calc_word_match_rate(words_list, melody_tree)\n",
    "        rate.section_name = io.get_file_name(mscx_path)\n",
    "\n",
    "        res.append(rate)\n",
    "    \n",
    "    return res"
   ]
  },
  {
   "cell_type": "code",
   "execution_count": 5,
   "metadata": {},
   "outputs": [],
   "source": [
    "word_match_rates = calc_word_match_rate(mscx_path_list, tstree_path_list)"
   ]
  },
  {
   "cell_type": "code",
   "execution_count": 9,
   "metadata": {},
   "outputs": [
    {
     "name": "stdout",
     "output_type": "stream",
     "text": [
      "[['BE_FREE', 20, 17, 28, 22],\n",
      " ['SUN_SHINE!!!', 45, 27, 21, 11],\n",
      " ['beautiful_days', 27, 22, 35, 26],\n",
      " ['no_more_war', 59, 36, 17, 10],\n",
      " ['たけてん', 28, 23, 38, 26],\n",
      " ['オレンジ', 33, 25, 60, 44],\n",
      " ['キセキ', 25, 18, 42, 27],\n",
      " ['サヨナラから始めよう', 56, 36, 17, 13],\n",
      " ['ビリーヴ', 43, 31, 46, 29],\n",
      " ['ルーキーズ', 57, 38, 43, 26],\n",
      " ['人', 62, 50, 38, 27],\n",
      " ['刹那', 24, 18, 25, 19],\n",
      " ['君想い', 58, 44, 27, 15],\n",
      " ['愛唄', 39, 21, 29, 21],\n",
      " ['扉', 45, 32, 29, 25],\n",
      " ['旅立ち', 30, 25, 28, 20],\n",
      " ['星影のエール', 30, 19, 29, 19],\n",
      " ['涙空', 55, 34, 13, 9],\n",
      " ['花唄', 42, 30, 29, 24],\n",
      " ['遥か', 39, 20, 30, 26]]\n"
     ]
    }
   ],
   "source": [
    "word_match_rate_map = {}\n",
    "for item in word_match_rates:\n",
    "    song_name = item.section_name[:-2]\n",
    "    section = item.section_name[-1]\n",
    "\n",
    "    if song_name not in word_match_rate_map:\n",
    "        word_match_rate_map[song_name] = [-1, -1, -1, -1]\n",
    "\n",
    "    if section == \"A\":\n",
    "        word_match_rate_map[song_name][0] = item.total_words_number\n",
    "        word_match_rate_map[song_name][1] = item.matched_words_number\n",
    "    elif section == \"S\":\n",
    "        word_match_rate_map[song_name][2] = item.total_words_number\n",
    "        word_match_rate_map[song_name][3] = item.matched_words_number\n",
    "\n",
    "res = [] \n",
    "for key, value in word_match_rate_map.items():\n",
    "    value.insert(0, key)\n",
    "    res.append(value)\n",
    "\n",
    "pprint.pprint(res)"
   ]
  }
 ],
 "metadata": {
  "kernelspec": {
   "display_name": "Python 3",
   "language": "python",
   "name": "python3"
  },
  "language_info": {
   "codemirror_mode": {
    "name": "ipython",
    "version": 3
   },
   "file_extension": ".py",
   "mimetype": "text/x-python",
   "name": "python",
   "nbconvert_exporter": "python",
   "pygments_lexer": "ipython3",
   "version": "3.11.4"
  },
  "orig_nbformat": 4
 },
 "nbformat": 4,
 "nbformat_minor": 2
}
