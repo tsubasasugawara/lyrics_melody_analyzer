{
 "cells": [
  {
   "cell_type": "code",
   "execution_count": 2,
   "metadata": {},
   "outputs": [],
   "source": [
    "import os\n",
    "\n",
    "os.chdir(\"../\")"
   ]
  },
  {
   "cell_type": "code",
   "execution_count": 3,
   "metadata": {},
   "outputs": [],
   "source": [
    "from alm.lyrics import *\n",
    "from alm.melody import *\n",
    "from alm.comparator import *\n",
    "from alm.utils import io\n",
    "import pprint"
   ]
  },
  {
   "cell_type": "code",
   "execution_count": 4,
   "metadata": {},
   "outputs": [],
   "source": [
    "popular_dir = \"xmls/popular/\"\n",
    "popular_songs = [\n",
    "    \"キセキ_A1\", \"キセキ_A2\", \"キセキ_S1\", \"キセキ_S2\",\n",
    "    \"愛唄_A1\", \"愛唄_A2\", \"愛唄_S1\", \"愛唄_S2\",\n",
    "    \"花唄_A1\", \"花唄_A2\", \"花唄_S1\", \"花唄_S2\",\n",
    "    \"オレンジ_A1\", \"オレンジ_A2\", \"オレンジ_S1\", \"オレンジ_S2\", \"オレンジ_S3\", \"オレンジ_S4\",\n",
    "    \"遥か_A1\", \"遥か_A2\", \"遥か_A3\", \"遥か_A4\", \"遥か_S1\", \"遥か_S2\",\n",
    "]\n",
    "\n",
    "unpopular_dir = \"xmls/unpopular/\"\n",
    "unpopular_songs = [\n",
    "    \"beautiful_days_A1\", \"beautiful_days_A2\", \"beautiful_days_S1\", \"beautiful_days_S2\",\n",
    "    \"ビリーヴ_A1\", \"ビリーヴ_A2\", \"ビリーヴ_S1\", \"ビリーヴ_S2\",\n",
    "    \"たけてん_A1\", \"たけてん_A2\", \"たけてん_S1\", \"たけてん_S2\",\n",
    "    \"人_A1\", \"人_A2\", \"人_S1\", \"人_S2\",\n",
    "    \"蕾_S1\", \"蕾_S2\", \"蕾_S3\",\n",
    "]"
   ]
  },
  {
   "cell_type": "code",
   "execution_count": 5,
   "metadata": {},
   "outputs": [],
   "source": [
    "def calc_word_match_rate(dir_path: str, songs_list: list, *, word_match_rate_list:list = []):\n",
    "    parser = grammar_parser.GrammarParser(\"ja_ginza\")\n",
    "\n",
    "    res = word_match_rate_list\n",
    "\n",
    "    for song_name in songs_list:\n",
    "        mscx_path = dir_path + song_name + \".xml\"\n",
    "        ts_path = dir_path + song_name + \"_TS.xml\"\n",
    "\n",
    "        lyrics_notes_map = lyrics_extractor.extract_lyrics(mscx_path)\n",
    "        doc = parser.parse(lyrics_notes_map[lyrics_extractor.LYRICS_KEY])\n",
    "        lyrics_tree = parser.to_tree(doc)\n",
    "        words_notes_map = {}\n",
    "        associating_lyrics_melody.explore_words_in_tree(lyrics_tree, words_notes_map)\n",
    "        words_list = associating_lyrics_melody.associate_word_list_notes(words_notes_map, lyrics_notes_map)\n",
    "\n",
    "        melody_tree = time_span_tree.time_span_tree_to_dict(ts_path)\n",
    "\n",
    "        rate = word_match_rate_calculator.calc_word_match_rate(words_list, melody_tree)\n",
    "        rate .section_name = song_name\n",
    "\n",
    "        res.append([rate.section_name, rate.words_number, rate.match_words_number, rate.words_number - rate.match_words_number, rate.match_rate])\n",
    "    \n",
    "    return res"
   ]
  },
  {
   "cell_type": "code",
   "execution_count": 6,
   "metadata": {},
   "outputs": [
    {
     "name": "stdout",
     "output_type": "stream",
     "text": [
      "[['キセキ_A1', 12, 8, 4, 0.6666666666666666],\n",
      " ['キセキ_A2', 13, 8, 5, 0.6153846153846154],\n",
      " ['キセキ_S1', 13, 9, 4, 0.6923076923076923],\n",
      " ['キセキ_S2', 12, 10, 2, 0.8333333333333334],\n",
      " ['愛唄_A1', 18, 11, 7, 0.6111111111111112],\n",
      " ['愛唄_A2', 21, 16, 5, 0.7619047619047619],\n",
      " ['愛唄_S1', 15, 7, 8, 0.4666666666666667],\n",
      " ['愛唄_S2', 14, 7, 7, 0.5],\n",
      " ['花唄_A1', 22, 15, 7, 0.6818181818181818],\n",
      " ['花唄_A2', 20, 15, 5, 0.75],\n",
      " ['花唄_S1', 15, 12, 3, 0.8],\n",
      " ['花唄_S2', 14, 12, 2, 0.8571428571428571],\n",
      " ['オレンジ_A1', 11, 10, 1, 0.9090909090909091],\n",
      " ['オレンジ_A2', 22, 16, 6, 0.7272727272727273],\n",
      " ['オレンジ_S1', 11, 5, 6, 0.45454545454545453],\n",
      " ['オレンジ_S2', 15, 11, 4, 0.7333333333333333],\n",
      " ['オレンジ_S3', 22, 16, 6, 0.7272727272727273],\n",
      " ['オレンジ_S4', 11, 10, 1, 0.9090909090909091],\n",
      " ['遥か_A1', 6, 4, 2, 0.6666666666666666],\n",
      " ['遥か_A2', 11, 5, 6, 0.45454545454545453],\n",
      " ['遥か_A3', 12, 11, 1, 0.9166666666666666],\n",
      " ['遥か_A4', 10, 7, 3, 0.7],\n",
      " ['遥か_S1', 18, 16, 2, 0.8888888888888888],\n",
      " ['遥か_S2', 12, 8, 4, 0.6666666666666666],\n",
      " ['beautiful_days_A1', 11, 8, 3, 0.7272727272727273],\n",
      " ['beautiful_days_A2', 16, 14, 2, 0.875],\n",
      " ['beautiful_days_S1', 19, 16, 3, 0.8421052631578947],\n",
      " ['beautiful_days_S2', 16, 12, 4, 0.75],\n",
      " ['ビリーヴ_A1', 20, 15, 5, 0.75],\n",
      " ['ビリーヴ_A2', 23, 21, 2, 0.9130434782608695],\n",
      " ['ビリーヴ_S1', 23, 15, 8, 0.6521739130434783],\n",
      " ['ビリーヴ_S2', 23, 17, 6, 0.7391304347826086],\n",
      " ['たけてん_A1', 15, 11, 4, 0.7333333333333333],\n",
      " ['たけてん_A2', 13, 11, 2, 0.8461538461538461],\n",
      " ['たけてん_S1', 18, 13, 5, 0.7222222222222222],\n",
      " ['たけてん_S2', 20, 16, 4, 0.8],\n",
      " ['人_A1', 28, 18, 10, 0.6428571428571429],\n",
      " ['人_A2', 34, 26, 8, 0.7647058823529411],\n",
      " ['人_S1', 19, 14, 5, 0.7368421052631579],\n",
      " ['人_S2', 19, 15, 4, 0.7894736842105263],\n",
      " ['蕾_S1', 14, 9, 5, 0.6428571428571429],\n",
      " ['蕾_S2', 15, 11, 4, 0.7333333333333333],\n",
      " ['蕾_S3', 7, 7, 0, 1.0]]\n"
     ]
    }
   ],
   "source": [
    "res = calc_word_match_rate(popular_dir, popular_songs)\n",
    "res = calc_word_match_rate(unpopular_dir, unpopular_songs, word_match_rate_list=res)\n",
    "io.output_csv(\"./notebooks/word_match_rate.csv\", [\"セクション名\", \"単語数\", \"一致した単語数\", \"一致しなかった単語数\", \"一致率\"], res)\n",
    "pprint.pprint(res)"
   ]
  }
 ],
 "metadata": {
  "kernelspec": {
   "display_name": "Python 3",
   "language": "python",
   "name": "python3"
  },
  "language_info": {
   "codemirror_mode": {
    "name": "ipython",
    "version": 3
   },
   "file_extension": ".py",
   "mimetype": "text/x-python",
   "name": "python",
   "nbconvert_exporter": "python",
   "pygments_lexer": "ipython3",
   "version": "3.11.4"
  },
  "orig_nbformat": 4
 },
 "nbformat": 4,
 "nbformat_minor": 2
}
