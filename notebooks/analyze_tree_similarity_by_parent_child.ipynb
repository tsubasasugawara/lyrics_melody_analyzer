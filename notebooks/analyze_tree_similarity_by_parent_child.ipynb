{
 "cells": [
  {
   "cell_type": "code",
   "execution_count": null,
   "metadata": {},
   "outputs": [],
   "source": [
    "import os\n",
    "from alm.comparator import tree_similarity_calculator as tsc\n",
    "\n",
    "os.chdir(\"/alm\")\n",
    "tsc.calc_tree_similarities(\"./xmls/mscx/*\", \"./xmls/tstree/*\")"
   ]
  },
  {
   "cell_type": "code",
   "execution_count": null,
   "metadata": {},
   "outputs": [],
   "source": [
    "from alm.analyzer import analyzer\n",
    "from alm.comparator import tree_similarity_calculator as tsc\n",
    "import os\n",
    "\n",
    "os.chdir(\"/alm\")\n",
    "analyzer.analyze_tree_similarities()"
   ]
  }
 ],
 "metadata": {
  "kernelspec": {
   "display_name": "Python 3",
   "language": "python",
   "name": "python3"
  },
  "language_info": {
   "codemirror_mode": {
    "name": "ipython",
    "version": 3
   },
   "file_extension": ".py",
   "mimetype": "text/x-python",
   "name": "python",
   "nbconvert_exporter": "python",
   "pygments_lexer": "ipython3",
   "version": "3.11.5"
  },
  "orig_nbformat": 4
 },
 "nbformat": 4,
 "nbformat_minor": 2
}
