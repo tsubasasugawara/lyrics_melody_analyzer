{
 "cells": [
  {
   "cell_type": "code",
   "execution_count": 1,
   "metadata": {},
   "outputs": [
    {
     "name": "stdout",
     "output_type": "stream",
     "text": [
      "BE_FREE_A\n",
      "分母：162\n",
      "分子：16\n",
      "None\n",
      "BE_FREE_S\n",
      "分母：8983\n",
      "分子：30\n",
      "None\n",
      "SUN_SHINE!!!_A\n",
      "分母：29361\n",
      "分子：30\n",
      "None\n",
      "SUN_SHINE!!!_S\n",
      "分母：788\n",
      "分子：23\n",
      "None\n",
      "beautiful_days_A\n",
      "分母：3940\n",
      "分子：23\n",
      "None\n",
      "beautiful_days_S\n",
      "分母：50571\n",
      "分子：10\n",
      "None\n",
      "no_more_war_A\n",
      "分母：54529627\n",
      "分子：28\n",
      "None\n",
      "no_more_war_S\n",
      "分母：174\n",
      "分子：4\n",
      "None\n",
      "たけてん_A\n",
      "分母：409\n",
      "分子：16\n",
      "None\n",
      "たけてん_S\n",
      "分母：145000\n",
      "分子：18\n",
      "None\n",
      "オレンジ_A\n",
      "分母：7078\n",
      "分子：14\n",
      "None\n",
      "オレンジ_S\n",
      "分母：0\n",
      "分子：85\n",
      "None\n",
      "キセキ_A\n",
      "分母：2475\n",
      "分子：16\n",
      "None\n",
      "キセキ_S\n",
      "分母：443413\n",
      "分子：27\n",
      "None\n",
      "サヨナラから始めよう_A\n",
      "分母：52168222\n",
      "分子：20\n",
      "None\n",
      "サヨナラから始めよう_S\n",
      "分母：638\n",
      "分子：6\n",
      "None\n",
      "ビリーヴ_A\n",
      "分母：30676\n",
      "分子：110\n",
      "None\n",
      "ビリーヴ_S\n",
      "分母：359021\n",
      "分子：31\n",
      "None\n",
      "ルーキーズ_A\n",
      "分母：31395699\n",
      "分子：32\n",
      "None\n"
     ]
    },
    {
     "ename": "KeyboardInterrupt",
     "evalue": "",
     "output_type": "error",
     "traceback": [
      "\u001b[0;31m---------------------------------------------------------------------------\u001b[0m",
      "\u001b[0;31mKeyboardInterrupt\u001b[0m                         Traceback (most recent call last)",
      "\u001b[1;32m/alm/notebooks/analyze_tree_similarity_by_parent_child.ipynb Cell 1\u001b[0m line \u001b[0;36m5\n\u001b[1;32m      <a href='vscode-notebook-cell://attached-container%2B7b22636f6e7461696e65724e616d65223a222f616c6d227d/alm/notebooks/analyze_tree_similarity_by_parent_child.ipynb#W0sdnNjb2RlLXJlbW90ZQ%3D%3D?line=1'>2</a>\u001b[0m \u001b[39mfrom\u001b[39;00m \u001b[39malm\u001b[39;00m\u001b[39m.\u001b[39;00m\u001b[39mcomparator\u001b[39;00m \u001b[39mimport\u001b[39;00m tree_similarity_calculator \u001b[39mas\u001b[39;00m tsc\n\u001b[1;32m      <a href='vscode-notebook-cell://attached-container%2B7b22636f6e7461696e65724e616d65223a222f616c6d227d/alm/notebooks/analyze_tree_similarity_by_parent_child.ipynb#W0sdnNjb2RlLXJlbW90ZQ%3D%3D?line=3'>4</a>\u001b[0m os\u001b[39m.\u001b[39mchdir(\u001b[39m\"\u001b[39m\u001b[39m/alm\u001b[39m\u001b[39m\"\u001b[39m)\n\u001b[0;32m----> <a href='vscode-notebook-cell://attached-container%2B7b22636f6e7461696e65724e616d65223a222f616c6d227d/alm/notebooks/analyze_tree_similarity_by_parent_child.ipynb#W0sdnNjb2RlLXJlbW90ZQ%3D%3D?line=4'>5</a>\u001b[0m tsc\u001b[39m.\u001b[39;49mcalc_tree_similarities(\u001b[39m\"\u001b[39;49m\u001b[39m./xmls/mscx/*\u001b[39;49m\u001b[39m\"\u001b[39;49m, \u001b[39m\"\u001b[39;49m\u001b[39m./xmls/tstree/*\u001b[39;49m\u001b[39m\"\u001b[39;49m)\n",
      "File \u001b[0;32m/alm/alm/comparator/tree_similarity_calculator.py:118\u001b[0m, in \u001b[0;36mcalc_tree_similarities\u001b[0;34m(mscx_dir_path, tstree_dir_path)\u001b[0m\n\u001b[1;32m    116\u001b[0m tree_similarities \u001b[39m=\u001b[39m []\n\u001b[1;32m    117\u001b[0m \u001b[39mfor\u001b[39;00m i \u001b[39min\u001b[39;00m \u001b[39mrange\u001b[39m(\u001b[39mlen\u001b[39m(mscx_path_list)):\n\u001b[0;32m--> 118\u001b[0m     similarity \u001b[39m=\u001b[39m calc_tree_similarity(mscx_path_list[i], tstree_path_list[i], parser)\n\u001b[1;32m    119\u001b[0m     tree_similarities\u001b[39m.\u001b[39mappend(similarity)\n\u001b[1;32m    120\u001b[0m     \u001b[39mprint\u001b[39m(similarity\u001b[39m.\u001b[39mprint())\n",
      "File \u001b[0;32m/alm/alm/comparator/tree_similarity_calculator.py:56\u001b[0m, in \u001b[0;36mcalc_tree_similarity\u001b[0;34m(mscx_path, tstree_path, parser)\u001b[0m\n\u001b[1;32m     54\u001b[0m count_ts_subtree_map \u001b[39m=\u001b[39m {}\n\u001b[1;32m     55\u001b[0m extracting_subtree\u001b[39m.\u001b[39mcount_subtree(lyrics_tree, count_lyrics_subtree_map)\n\u001b[0;32m---> 56\u001b[0m extracting_subtree\u001b[39m.\u001b[39;49mcount_subtree(tstree, count_ts_subtree_map)\n\u001b[1;32m     57\u001b[0m count_lyrics_subtree \u001b[39m=\u001b[39m count_lyrics_subtree_map[lyrics_tree\u001b[39m.\u001b[39mid]\n\u001b[1;32m     58\u001b[0m count_ts_subtree \u001b[39m=\u001b[39m count_ts_subtree_map[tstree\u001b[39m.\u001b[39mid]\n",
      "File \u001b[0;32m/alm/alm/comparator/extracting_subtree.py:22\u001b[0m, in \u001b[0;36mcount_subtree\u001b[0;34m(node, count_subtree_map)\u001b[0m\n\u001b[1;32m     19\u001b[0m     \u001b[39mreturn\u001b[39;00m\n\u001b[1;32m     21\u001b[0m \u001b[39mfor\u001b[39;00m child \u001b[39min\u001b[39;00m node\u001b[39m.\u001b[39mchildren:\n\u001b[0;32m---> 22\u001b[0m     count_subtree(child, count_subtree_map)\n\u001b[1;32m     24\u001b[0m count_subtree_map[node\u001b[39m.\u001b[39mid] \u001b[39m=\u001b[39m \u001b[39m0\u001b[39m\n\u001b[1;32m     25\u001b[0m \u001b[39mfor\u001b[39;00m k \u001b[39min\u001b[39;00m \u001b[39mrange\u001b[39m(\u001b[39mlen\u001b[39m(node\u001b[39m.\u001b[39mchildren)):\n",
      "File \u001b[0;32m/alm/alm/comparator/extracting_subtree.py:37\u001b[0m, in \u001b[0;36mcount_subtree\u001b[0;34m(node, count_subtree_map)\u001b[0m\n\u001b[1;32m     35\u001b[0m     \u001b[39mfor\u001b[39;00m j \u001b[39min\u001b[39;00m \u001b[39mrange\u001b[39m(\u001b[39mlen\u001b[39m(node\u001b[39m.\u001b[39mchildren)):\n\u001b[1;32m     36\u001b[0m         \u001b[39mif\u001b[39;00m i \u001b[39m>>\u001b[39m j \u001b[39m&\u001b[39m \u001b[39m1\u001b[39m:\n\u001b[0;32m---> 37\u001b[0m             count \u001b[39m*\u001b[39;49m\u001b[39m=\u001b[39;49m count_subtree_map[node\u001b[39m.\u001b[39;49mchildren[j]\u001b[39m.\u001b[39;49mid]\n\u001b[1;32m     38\u001b[0m     count_subtree_map[node\u001b[39m.\u001b[39mid] \u001b[39m+\u001b[39m\u001b[39m=\u001b[39m count\n\u001b[1;32m     40\u001b[0m \u001b[39mif\u001b[39;00m node\u001b[39m.\u001b[39mdepth \u001b[39m==\u001b[39m \u001b[39m1\u001b[39m:\n",
      "\u001b[0;31mKeyboardInterrupt\u001b[0m: "
     ]
    }
   ],
   "source": [
    "import os\n",
    "from alm.comparator import tree_similarity_calculator as tsc\n",
    "\n",
    "os.chdir(\"/alm\")\n",
    "tsc.calc_tree_similarities(\"./xmls/mscx/*\", \"./xmls/tstree/*\")"
   ]
  },
  {
   "cell_type": "code",
   "execution_count": null,
   "metadata": {},
   "outputs": [],
   "source": [
    "from alm.analyzer import analyzer\n",
    "from alm.comparator import tree_similarity_calculator as tsc\n",
    "import os\n",
    "\n",
    "os.chdir(\"/alm\")\n",
    "analyzer.analyze_tree_similarities()"
   ]
  }
 ],
 "metadata": {
  "kernelspec": {
   "display_name": "Python 3",
   "language": "python",
   "name": "python3"
  },
  "language_info": {
   "codemirror_mode": {
    "name": "ipython",
    "version": 3
   },
   "file_extension": ".py",
   "mimetype": "text/x-python",
   "name": "python",
   "nbconvert_exporter": "python",
   "pygments_lexer": "ipython3",
   "version": "3.11.5"
  },
  "orig_nbformat": 4
 },
 "nbformat": 4,
 "nbformat_minor": 2
}
