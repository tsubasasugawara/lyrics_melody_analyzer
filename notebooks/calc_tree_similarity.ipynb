{
 "cells": [
  {
   "cell_type": "code",
   "execution_count": 1,
   "metadata": {},
   "outputs": [],
   "source": [
    "import os\n",
    "os.chdir(\"../\")"
   ]
  },
  {
   "cell_type": "code",
   "execution_count": 2,
   "metadata": {},
   "outputs": [],
   "source": [
    "import glob\n",
    "\n",
    "mscx_path_list = []\n",
    "for item in glob.glob(\"./xmls/mscx/*\"):\n",
    "    mscx_path_list.append(os.path.abspath(item))\n",
    "mscx_path_list.sort()\n",
    "\n",
    "tstree_path_list = []\n",
    "for item in glob.glob(\"./xmls/tstree/*\"):\n",
    "    tstree_path_list.append(os.path.abspath(item))\n",
    "tstree_path_list.sort()"
   ]
  },
  {
   "cell_type": "code",
   "execution_count": 3,
   "metadata": {},
   "outputs": [
    {
     "name": "stdout",
     "output_type": "stream",
     "text": [
      "[['BE_FREE_A', 45, 10, 0.2222222222222222],\n",
      " ['BE_FREE_S', 53, 9, 0.16981132075471697],\n",
      " ['SUN_SHINE!!!_A', 99, 15, 0.15151515151515152],\n",
      " ['SUN_SHINE!!!_S', 58, 8, 0.13793103448275862],\n",
      " ['beautiful_days_A', 51, 11, 0.21568627450980393],\n",
      " ['beautiful_days_S', 60, 8, 0.13333333333333333],\n",
      " ['no_more_war_A', 121, 18, 0.1487603305785124],\n",
      " ['no_more_war_S', 33, 3, 0.09090909090909091],\n",
      " ['たけてん_A', 51, 10, 0.19607843137254902],\n",
      " ['たけてん_S', 77, 10, 0.12987012987012986],\n",
      " ['オレンジ_A', 75, 6, 0.08],\n",
      " ['オレンジ_S', 114, 30, 0.2631578947368421],\n",
      " ['キセキ_A', 54, 8, 0.14814814814814814],\n",
      " ['キセキ_S', 81, 13, 0.16049382716049382],\n",
      " ['サヨナラから始めよう_A', 112, 13, 0.11607142857142858],\n",
      " ['サヨナラから始めよう_S', 36, 2, 0.05555555555555555],\n",
      " ['ビリーヴ_A', 74, 22, 0.2972972972972973],\n",
      " ['ビリーヴ_S', 82, 16, 0.1951219512195122],\n",
      " ['ルーキーズ_A', 105, 19, 0.18095238095238095],\n",
      " ['ルーキーズ_S', 101, 16, 0.15841584158415842],\n",
      " ['人_A', 111, 15, 0.13513513513513514],\n",
      " ['人_S', 77, 9, 0.11688311688311688],\n",
      " ['刹那_A', 47, 3, 0.06382978723404255],\n",
      " ['刹那_S', 48, 4, 0.08333333333333333],\n",
      " ['君想い_A', 109, 18, 0.1651376146788991],\n",
      " ['君想い_S', 71, 9, 0.1267605633802817],\n",
      " ['愛唄_A', 74, 12, 0.16216216216216217],\n",
      " ['愛唄_S', 57, 13, 0.22807017543859648],\n",
      " ['扉_A', 87, 18, 0.20689655172413793],\n",
      " ['扉_S', 54, 10, 0.18518518518518517],\n",
      " ['旅立ち_A', 57, 12, 0.21052631578947367],\n",
      " ['旅立ち_S', 58, 10, 0.1724137931034483],\n",
      " ['星影のエール_A', 58, 12, 0.20689655172413793],\n",
      " ['星影のエール_S', 65, 9, 0.13846153846153847],\n",
      " ['涙空_A', 113, 9, 0.07964601769911504],\n",
      " ['涙空_S', 29, 8, 0.27586206896551724],\n",
      " ['花唄_A', 87, 18, 0.20689655172413793],\n",
      " ['花唄_S', 55, 13, 0.23636363636363636],\n",
      " ['遥か_A', 95, 21, 0.22105263157894736],\n",
      " ['遥か_S', 63, 10, 0.15873015873015872]]\n"
     ]
    }
   ],
   "source": [
    "from alm.comparator import tree_similarity_calculator as TSCalculator\n",
    "import pprint\n",
    "\n",
    "tree_similarities = TSCalculator.calc_tree_similarities(mscx_path_list, tstree_path_list)\n",
    "\n",
    "res = []\n",
    "for item in tree_similarities:\n",
    "    res.append([item.song_name, item.denominator, item.numerator, item.calc_similarity()])\n",
    "\n",
    "pprint.pprint(res)"
   ]
  }
 ],
 "metadata": {
  "kernelspec": {
   "display_name": "Python 3",
   "language": "python",
   "name": "python3"
  },
  "language_info": {
   "codemirror_mode": {
    "name": "ipython",
    "version": 3
   },
   "file_extension": ".py",
   "mimetype": "text/x-python",
   "name": "python",
   "nbconvert_exporter": "python",
   "pygments_lexer": "ipython3",
   "version": "3.11.4"
  },
  "orig_nbformat": 4
 },
 "nbformat": 4,
 "nbformat_minor": 2
}
