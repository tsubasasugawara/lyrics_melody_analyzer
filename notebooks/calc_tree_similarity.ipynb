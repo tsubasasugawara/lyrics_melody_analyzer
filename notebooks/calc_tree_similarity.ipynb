{
 "cells": [
  {
   "cell_type": "code",
   "execution_count": 1,
   "metadata": {},
   "outputs": [],
   "source": [
    "import os\n",
    "os.chdir(\"../\")"
   ]
  },
  {
   "cell_type": "code",
   "execution_count": 2,
   "metadata": {},
   "outputs": [],
   "source": [
    "import glob\n",
    "\n",
    "mscx_path_list = []\n",
    "for item in glob.glob(\"./xmls/mscx/*\"):\n",
    "    mscx_path_list.append(os.path.abspath(item))\n",
    "mscx_path_list.sort()\n",
    "\n",
    "tstree_path_list = []\n",
    "for item in glob.glob(\"./xmls/tstree/*\"):\n",
    "    tstree_path_list.append(os.path.abspath(item))\n",
    "tstree_path_list.sort()"
   ]
  },
  {
   "cell_type": "code",
   "execution_count": 3,
   "metadata": {},
   "outputs": [
    {
     "name": "stdout",
     "output_type": "stream",
     "text": [
      "0.2222222222222222 BE_FREE_A\n",
      "0.16981132075471697 BE_FREE_S\n",
      "0.15151515151515152 SUN_SHINE!!!_A\n",
      "0.13793103448275862 SUN_SHINE!!!_S\n",
      "0.21568627450980393 beautiful_days_A\n",
      "0.13333333333333333 beautiful_days_S\n",
      "0.1487603305785124 no_more_war_A\n",
      "0.09090909090909091 no_more_war_S\n",
      "0.19607843137254902 たけてん_A\n",
      "0.12987012987012986 たけてん_S\n",
      "0.08 オレンジ_A\n",
      "0.2631578947368421 オレンジ_S\n",
      "0.14814814814814814 キセキ_A\n",
      "0.16049382716049382 キセキ_S\n",
      "0.11607142857142858 サヨナラから始めよう_A\n",
      "0.05555555555555555 サヨナラから始めよう_S\n",
      "0.2972972972972973 ビリーヴ_A\n",
      "0.1951219512195122 ビリーヴ_S\n",
      "0.18095238095238095 ルーキーズ_A\n",
      "0.15841584158415842 ルーキーズ_S\n",
      "0.13513513513513514 人_A\n",
      "0.11688311688311688 人_S\n",
      "0.06382978723404255 刹那_A\n",
      "0.08333333333333333 刹那_S\n",
      "0.1651376146788991 君想い_A\n",
      "0.1267605633802817 君想い_S\n",
      "0.16216216216216217 愛唄_A\n",
      "0.22807017543859648 愛唄_S\n",
      "0.20689655172413793 扉_A\n",
      "0.18518518518518517 扉_S\n",
      "0.21052631578947367 旅立ち_A\n",
      "0.1724137931034483 旅立ち_S\n",
      "0.20689655172413793 星影のエール_A\n",
      "0.13846153846153847 星影のエール_S\n",
      "0.07964601769911504 涙空_A\n",
      "0.27586206896551724 涙空_S\n",
      "0.20689655172413793 花唄_A\n",
      "0.23636363636363636 花唄_S\n",
      "0.22105263157894736 遥か_A\n",
      "0.15873015873015872 遥か_S\n"
     ]
    }
   ],
   "source": [
    "from alm.comparator import tree_similarity_calculator as TSCalculator\n",
    "\n",
    "tree_similarities = TSCalculator.calc_tree_similarities(mscx_path_list, tstree_path_list)\n",
    "\n",
    "for item in tree_similarities:\n",
    "    print(item.calc_similarity(), item.song_name)"
   ]
  }
 ],
 "metadata": {
  "kernelspec": {
   "display_name": "Python 3",
   "language": "python",
   "name": "python3"
  },
  "language_info": {
   "codemirror_mode": {
    "name": "ipython",
    "version": 3
   },
   "file_extension": ".py",
   "mimetype": "text/x-python",
   "name": "python",
   "nbconvert_exporter": "python",
   "pygments_lexer": "ipython3",
   "version": "3.11.4"
  },
  "orig_nbformat": 4
 },
 "nbformat": 4,
 "nbformat_minor": 2
}
