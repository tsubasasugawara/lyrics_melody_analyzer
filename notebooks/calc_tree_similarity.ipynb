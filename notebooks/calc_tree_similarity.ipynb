{
 "cells": [
  {
   "cell_type": "code",
   "execution_count": 1,
   "metadata": {},
   "outputs": [],
   "source": [
    "import os\n",
    "os.chdir(\"../\")"
   ]
  },
  {
   "cell_type": "code",
   "execution_count": 2,
   "metadata": {},
   "outputs": [],
   "source": [
    "import glob\n",
    "\n",
    "mscx_path_list = []\n",
    "for item in glob.glob(\"./xmls/mscx/*\"):\n",
    "    mscx_path_list.append(os.path.abspath(item))\n",
    "mscx_path_list.sort()\n",
    "\n",
    "tstree_path_list = []\n",
    "for item in glob.glob(\"./xmls/tstree/*\"):\n",
    "    tstree_path_list.append(os.path.abspath(item))\n",
    "tstree_path_list.sort()"
   ]
  },
  {
   "cell_type": "code",
   "execution_count": 3,
   "metadata": {},
   "outputs": [],
   "source": [
    "from alm.comparator import tree_similarity_calculator as TSCalculator\n",
    "\n",
    "tree_similarities = TSCalculator.calc_tree_similarities(mscx_path_list, tstree_path_list)"
   ]
  },
  {
   "cell_type": "code",
   "execution_count": 4,
   "metadata": {},
   "outputs": [
    {
     "name": "stdout",
     "output_type": "stream",
     "text": [
      "[['BE_FREE', 45, 10, 53, 9],\n",
      " ['SUN_SHINE!!!', 99, 15, 58, 8],\n",
      " ['beautiful_days', 51, 11, 60, 8],\n",
      " ['no_more_war', 121, 18, 33, 3],\n",
      " ['たけてん', 51, 10, 77, 10],\n",
      " ['オレンジ', 75, 6, 114, 30],\n",
      " ['キセキ', 54, 8, 81, 13],\n",
      " ['サヨナラから始めよう', 112, 13, 36, 2],\n",
      " ['ビリーヴ', 74, 22, 82, 16],\n",
      " ['ルーキーズ', 105, 19, 101, 16],\n",
      " ['人', 111, 15, 77, 9],\n",
      " ['刹那', 47, 3, 48, 4],\n",
      " ['君想い', 109, 18, 71, 9],\n",
      " ['愛唄', 74, 12, 57, 13],\n",
      " ['扉', 87, 18, 54, 10],\n",
      " ['旅立ち', 57, 12, 58, 10],\n",
      " ['星影のエール', 58, 12, 65, 9],\n",
      " ['涙空', 113, 9, 29, 8],\n",
      " ['花唄', 87, 18, 55, 13],\n",
      " ['遥か', 95, 21, 63, 10]]\n"
     ]
    }
   ],
   "source": [
    "import pprint\n",
    "\n",
    "tree_similarities_dict = {}\n",
    "for item in tree_similarities:\n",
    "    song_name = item.section_name[:-2]\n",
    "    section = item.section_name[-1]\n",
    "\n",
    "    if song_name not in tree_similarities_dict:\n",
    "        tree_similarities_dict[song_name] = [-1, -1, -1, -1]\n",
    "\n",
    "    if section == \"A\":\n",
    "        tree_similarities_dict[song_name][0] = item.denominator\n",
    "        tree_similarities_dict[song_name][1] = item.numerator\n",
    "    elif section == \"S\":\n",
    "        tree_similarities_dict[song_name][2] = item.denominator\n",
    "        tree_similarities_dict[song_name][3] = item.numerator\n",
    "\n",
    "res = [] \n",
    "for key, value in tree_similarities_dict.items():\n",
    "    value.insert(0, key)\n",
    "    res.append(value)\n",
    "\n",
    "pprint.pprint(res)"
   ]
  }
 ],
 "metadata": {
  "kernelspec": {
   "display_name": "Python 3",
   "language": "python",
   "name": "python3"
  },
  "language_info": {
   "codemirror_mode": {
    "name": "ipython",
    "version": 3
   },
   "file_extension": ".py",
   "mimetype": "text/x-python",
   "name": "python",
   "nbconvert_exporter": "python",
   "pygments_lexer": "ipython3",
   "version": "3.11.4"
  },
  "orig_nbformat": 4
 },
 "nbformat": 4,
 "nbformat_minor": 2
}
