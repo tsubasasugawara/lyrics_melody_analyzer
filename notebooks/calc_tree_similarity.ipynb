{
 "cells": [
  {
   "cell_type": "code",
   "execution_count": 1,
   "metadata": {},
   "outputs": [],
   "source": [
    "import os\n",
    "os.chdir(\"../\")"
   ]
  },
  {
   "cell_type": "code",
   "execution_count": 2,
   "metadata": {},
   "outputs": [],
   "source": [
    "import glob\n",
    "\n",
    "mscx_path_list = []\n",
    "for item in glob.glob(\"./xmls/mscx/*\"):\n",
    "    mscx_path_list.append(os.path.abspath(item))\n",
    "mscx_path_list.sort()\n",
    "\n",
    "tstree_path_list = []\n",
    "for item in glob.glob(\"./xmls/tstree/*\"):\n",
    "    tstree_path_list.append(os.path.abspath(item))\n",
    "tstree_path_list.sort()"
   ]
  },
  {
   "cell_type": "code",
   "execution_count": 3,
   "metadata": {},
   "outputs": [
    {
     "name": "stdout",
     "output_type": "stream",
     "text": [
      "[['BE_FREE_A', 45, 10],\n",
      " ['BE_FREE_S', 53, 9],\n",
      " ['SUN_SHINE!!!_A', 99, 15],\n",
      " ['SUN_SHINE!!!_S', 58, 8],\n",
      " ['beautiful_days_A', 51, 11],\n",
      " ['beautiful_days_S', 60, 8],\n",
      " ['no_more_war_A', 121, 18],\n",
      " ['no_more_war_S', 33, 3],\n",
      " ['たけてん_A', 51, 10],\n",
      " ['たけてん_S', 77, 10],\n",
      " ['オレンジ_A', 75, 6],\n",
      " ['オレンジ_S', 114, 30],\n",
      " ['キセキ_A', 54, 8],\n",
      " ['キセキ_S', 81, 13],\n",
      " ['サヨナラから始めよう_A', 112, 13],\n",
      " ['サヨナラから始めよう_S', 36, 2],\n",
      " ['ビリーヴ_A', 74, 22],\n",
      " ['ビリーヴ_S', 82, 16],\n",
      " ['ルーキーズ_A', 105, 19],\n",
      " ['ルーキーズ_S', 101, 16],\n",
      " ['人_A', 111, 15],\n",
      " ['人_S', 77, 9],\n",
      " ['刹那_A', 47, 3],\n",
      " ['刹那_S', 48, 4],\n",
      " ['君想い_A', 109, 18],\n",
      " ['君想い_S', 71, 9],\n",
      " ['愛唄_A', 74, 12],\n",
      " ['愛唄_S', 57, 13],\n",
      " ['扉_A', 87, 18],\n",
      " ['扉_S', 54, 10],\n",
      " ['旅立ち_A', 57, 12],\n",
      " ['旅立ち_S', 58, 10],\n",
      " ['星影のエール_A', 58, 12],\n",
      " ['星影のエール_S', 65, 9],\n",
      " ['涙空_A', 113, 9],\n",
      " ['涙空_S', 29, 8],\n",
      " ['花唄_A', 87, 18],\n",
      " ['花唄_S', 55, 13],\n",
      " ['遥か_A', 95, 21],\n",
      " ['遥か_S', 63, 10]]\n"
     ]
    }
   ],
   "source": [
    "from alm.comparator import tree_similarity_calculator as TSCalculator\n",
    "import pprint\n",
    "\n",
    "tree_similarities = TSCalculator.calc_tree_similarities(mscx_path_list, tstree_path_list)\n",
    "\n",
    "res = []\n",
    "for item in tree_similarities:\n",
    "    res.append([item.song_name, item.denominator, item.numerator, item.calc_similarity()])\n",
    "\n",
    "pprint.pprint(res)"
   ]
  }
 ],
 "metadata": {
  "kernelspec": {
   "display_name": "Python 3",
   "language": "python",
   "name": "python3"
  },
  "language_info": {
   "codemirror_mode": {
    "name": "ipython",
    "version": 3
   },
   "file_extension": ".py",
   "mimetype": "text/x-python",
   "name": "python",
   "nbconvert_exporter": "python",
   "pygments_lexer": "ipython3",
   "version": "3.11.4"
  },
  "orig_nbformat": 4
 },
 "nbformat": 4,
 "nbformat_minor": 2
}
