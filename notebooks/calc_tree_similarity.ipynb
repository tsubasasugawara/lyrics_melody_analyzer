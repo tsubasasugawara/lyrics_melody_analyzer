{
 "cells": [
  {
   "cell_type": "code",
   "execution_count": 1,
   "metadata": {},
   "outputs": [],
   "source": [
    "import os\n",
    "os.chdir(\"../\")"
   ]
  },
  {
   "cell_type": "code",
   "execution_count": 2,
   "metadata": {},
   "outputs": [],
   "source": [
    "import glob\n",
    "\n",
    "mscx_path_list = []\n",
    "for item in glob.glob(\"./xmls/pop/*\"):\n",
    "    mscx_path_list.append(os.path.abspath(item))\n",
    "mscx_path_list.sort()\n",
    "\n",
    "tstree_path_list = []\n",
    "for item in glob.glob(\"./xmls/pop_tstree/*\"):\n",
    "    tstree_path_list.append(os.path.abspath(item))\n",
    "tstree_path_list.sort()"
   ]
  },
  {
   "cell_type": "code",
   "execution_count": 3,
   "metadata": {},
   "outputs": [
    {
     "name": "stdout",
     "output_type": "stream",
     "text": [
      "0.2222222222222222 BE_FREE_A\n",
      "0.16981132075471697 BE_FREE_S\n",
      "0.17647058823529413 オレンジ_A1\n",
      "0.12280701754385964 オレンジ_A2\n",
      "0.2222222222222222 オレンジ_S1\n",
      "0.15384615384615385 オレンジ_S2\n",
      "0.2857142857142857 オレンジ_S3\n",
      "0.1875 オレンジ_S4\n",
      "0.13333333333333333 キセキ_A1\n",
      "0.21739130434782608 キセキ_A2\n",
      "0.18181818181818182 キセキ_S1\n",
      "0.15789473684210525 キセキ_S2\n",
      "0.18421052631578946 キセキ_S3\n",
      "0.06382978723404255 刹那_A\n",
      "0.08333333333333333 刹那_S\n",
      "0.16666666666666666 愛唄_A1\n",
      "0.1891891891891892 愛唄_A2\n",
      "0.4827586206896552 愛唄_S1\n",
      "0.14814814814814814 愛唄_S2\n",
      "0.20689655172413793 扉_A\n",
      "0.18518518518518517 扉_S\n",
      "0.21052631578947367 旅立ち_A\n",
      "0.1724137931034483 旅立ち_S\n",
      "0.20689655172413793 星影のエール_A\n",
      "0.13846153846153847 星影のエール_S\n",
      "0.07964601769911504 涙空_A\n",
      "0.27586206896551724 涙空_S\n",
      "0.25 花唄_A1\n",
      "0.16666666666666666 花唄_A2\n",
      "0.25925925925925924 花唄_S1\n",
      "0.18518518518518517 花唄_S2\n",
      "0.07142857142857142 遥か_A1\n",
      "0.17647058823529413 遥か_A2\n",
      "0.19047619047619047 遥か_A3\n",
      "0.17391304347826086 遥か_A4\n",
      "0.21428571428571427 遥か_S1\n",
      "0.20588235294117646 遥か_S2\n"
     ]
    }
   ],
   "source": [
    "from alm.comparator import tree_similarity_calculator as TSCalculator\n",
    "\n",
    "tree_similarities = TSCalculator.calc_tree_similarities(mscx_path_list, tstree_path_list)\n",
    "\n",
    "for item in tree_similarities:\n",
    "    print(item.calc_similarity(), item.song_name)"
   ]
  }
 ],
 "metadata": {
  "kernelspec": {
   "display_name": "Python 3",
   "language": "python",
   "name": "python3"
  },
  "language_info": {
   "codemirror_mode": {
    "name": "ipython",
    "version": 3
   },
   "file_extension": ".py",
   "mimetype": "text/x-python",
   "name": "python",
   "nbconvert_exporter": "python",
   "pygments_lexer": "ipython3",
   "version": "3.11.4"
  },
  "orig_nbformat": 4
 },
 "nbformat": 4,
 "nbformat_minor": 2
}
