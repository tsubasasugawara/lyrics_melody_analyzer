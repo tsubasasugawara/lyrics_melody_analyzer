{
 "cells": [
  {
   "cell_type": "code",
   "execution_count": 1,
   "metadata": {},
   "outputs": [],
   "source": [
    "import os\n",
    "os.chdir(\"../\")"
   ]
  },
  {
   "cell_type": "code",
   "execution_count": 2,
   "metadata": {},
   "outputs": [],
   "source": [
    "import glob\n",
    "\n",
    "mscx_path_list = []\n",
    "for item in glob.glob(\"./xmls/mscx/*\"):\n",
    "    mscx_path_list.append(os.path.abspath(item))\n",
    "mscx_path_list.sort()\n",
    "\n",
    "tstree_path_list = []\n",
    "for item in glob.glob(\"./xmls/tstree/*\"):\n",
    "    tstree_path_list.append(os.path.abspath(item))\n",
    "tstree_path_list.sort()"
   ]
  },
  {
   "cell_type": "code",
   "execution_count": 3,
   "metadata": {},
   "outputs": [],
   "source": [
    "from alm.comparator import tree_similarity_calculator as TSCalculator\n",
    "\n",
    "tree_similarities = TSCalculator.calc_tree_similarities(mscx_path_list, tstree_path_list)"
   ]
  },
  {
   "cell_type": "code",
   "execution_count": 4,
   "metadata": {},
   "outputs": [],
   "source": [
    "import pprint\n",
    "from alm.utils import io\n",
    "\n",
    "tree_similarities_dict = {}\n",
    "for item in tree_similarities:\n",
    "    song_name = item.section_name[:-2]\n",
    "    section = item.section_name[-1]\n",
    "\n",
    "    if song_name not in tree_similarities_dict:\n",
    "        tree_similarities_dict[song_name] = [-1, -1, -1, -1]\n",
    "\n",
    "    if section == \"A\":\n",
    "        tree_similarities_dict[song_name][0] = item.denominator\n",
    "        tree_similarities_dict[song_name][1] = item.numerator\n",
    "    elif section == \"S\":\n",
    "        tree_similarities_dict[song_name][2] = item.denominator\n",
    "        tree_similarities_dict[song_name][3] = item.numerator\n",
    "\n",
    "res = [] \n",
    "for key, value in tree_similarities_dict.items():\n",
    "    value.insert(0, key)\n",
    "    res.append(value)\n",
    "\n",
    "io.output_csv(\n",
    "    \"./csv/tree_similarities.csv\",\n",
    "    [\"楽曲名\", \"部分木の総組み合わせ数_A\", \"一致した部分木数_A\", \"部分木の総組み合わせ数_S\", \"一致した部分木数_S\"],\n",
    "    res\n",
    ")"
   ]
  }
 ],
 "metadata": {
  "kernelspec": {
   "display_name": "Python 3",
   "language": "python",
   "name": "python3"
  },
  "language_info": {
   "codemirror_mode": {
    "name": "ipython",
    "version": 3
   },
   "file_extension": ".py",
   "mimetype": "text/x-python",
   "name": "python",
   "nbconvert_exporter": "python",
   "pygments_lexer": "ipython3",
   "version": "3.11.4"
  },
  "orig_nbformat": 4
 },
 "nbformat": 4,
 "nbformat_minor": 2
}
