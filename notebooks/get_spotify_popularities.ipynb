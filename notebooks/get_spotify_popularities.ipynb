{
 "cells": [
  {
   "cell_type": "code",
   "execution_count": 1,
   "metadata": {},
   "outputs": [],
   "source": [
    "import pprint\n",
    "import os\n",
    "os.chdir(\"../\")"
   ]
  },
  {
   "cell_type": "code",
   "execution_count": 2,
   "metadata": {},
   "outputs": [],
   "source": [
    "track_id_list = [\n",
    "\t\"2bzdhN6Y5AP1zRRf12QwJq\",\n",
    "\t\"7CKNIPYunPhupoNZXdi4GS\",\n",
    "\t\"3vzerJweXcahCRrGl78ohE\",\n",
    "\t\"4wBFubvNAwVox8q4SYXHqU\",\n",
    "\t\"0rduVGD3WmGciFFb6sUScg\",\n",
    "\t\"4dHtnxfQZJvryJTAmSA9rj\",\n",
    "\t\"0olDaDIw7wgrfAuBhF1vkm\",\n",
    "\t\"53xNhPSXi0bVpwetejmOqo\",\n",
    "\t\"2Y2wMEg4n1Va2cffhaJTi2\",\n",
    "\t\"0Bvp54lGzbK6OueNgtiOxY\",\n",
    "\t\"3dj88K1fef6CcoeMXiNbUE\",\n",
    "\t\"1SKDuztE4y5HxboJn9CNo6\",\n",
    "\t\"1qULtVzx3VtmZhBeBxdHFH\",\n",
    "\t\"0cHrtuQWokhtiKq9oHo8H4\",\n",
    "\t\"4RvXKXQGHCAXVfkk4QEJCa\",\n",
    "\t\"2ScPlHiBykNQEvJ511R1HI\",\n",
    "\t\"1c4UEh3uu1RZvXkt2Q14Dr\",\n",
    "\t\"6JgIppuL1asWTafEBEJCFr\",\n",
    "\t\"1wzXn6KAVDEHY0TemkqWBX\",\n",
    "\t\"6EtbvKUDorqlMamXtv6Rwg\",\n",
    "\t\"7vvipVxGbzwLYxlaHTPqt3\",\n",
    "\t\"76euHiDQdDdUegnwJXD4du\",\n",
    "\t\"5n5cw6iVMTWj6CJSlIqouz\",\n",
    "\t\"2kk8L2MStsZ0tYLPkDrL64\",\n",
    "]"
   ]
  },
  {
   "cell_type": "code",
   "execution_count": 3,
   "metadata": {},
   "outputs": [
    {
     "name": "stdout",
     "output_type": "stream",
     "text": [
      "[['キセキ', 56],\n",
      " ['愛唄', 53],\n",
      " ['花唄', 53],\n",
      " ['遥か', 60],\n",
      " ['オレンジ', 55],\n",
      " ['刹那', 34],\n",
      " ['星影のエール', 48],\n",
      " ['扉', 42],\n",
      " ['歩み', 39],\n",
      " ['旅立ち', 33],\n",
      " ['涙空', 31],\n",
      " ['BE FREE', 36],\n",
      " ['人', 41],\n",
      " ['beautiful days', 29],\n",
      " ['蕾', 47],\n",
      " ['たけてん', 41],\n",
      " ['ビリーヴ', 47],\n",
      " ['またね。', 43],\n",
      " ['ルーキーズ', 34],\n",
      " ['君想い', 36],\n",
      " ['SUN SHINE!!!', 33],\n",
      " ['サヨナラから始めよう', 32],\n",
      " ['no more war', 28],\n",
      " ['地球号', 28]]\n"
     ]
    }
   ],
   "source": [
    "from alm.api import spotify\n",
    "\n",
    "res = spotify.get_popularities(track_id_list)\n",
    "pprint.pprint(res)"
   ]
  },
  {
   "cell_type": "code",
   "execution_count": 4,
   "metadata": {},
   "outputs": [],
   "source": [
    "from alm.utils import io\n",
    "io.output_csv(\"./notebooks/popularities.csv\", [\"トラック名\", \"人気度\"], res)"
   ]
  }
 ],
 "metadata": {
  "kernelspec": {
   "display_name": "Python 3",
   "language": "python",
   "name": "python3"
  },
  "language_info": {
   "codemirror_mode": {
    "name": "ipython",
    "version": 3
   },
   "file_extension": ".py",
   "mimetype": "text/x-python",
   "name": "python",
   "nbconvert_exporter": "python",
   "pygments_lexer": "ipython3",
   "version": "3.11.4"
  },
  "orig_nbformat": 4
 },
 "nbformat": 4,
 "nbformat_minor": 2
}
