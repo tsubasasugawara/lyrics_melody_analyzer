{
 "cells": [
  {
   "cell_type": "code",
   "execution_count": 1,
   "metadata": {},
   "outputs": [],
   "source": [
    "import os\n",
    "import random\n",
    "from alm.node import node as nd\n",
    "from alm.comparator import extracting_subtree as es\n",
    "\n",
    "os.chdir(\"/alm\")"
   ]
  },
  {
   "cell_type": "code",
   "execution_count": 2,
   "metadata": {},
   "outputs": [],
   "source": [
    "def gen_subtree(node: nd.Node, depth: int, id_list: list):\n",
    "    if depth > 2:\n",
    "        return\n",
    "\n",
    "    if len(id_list) <= 0:\n",
    "        return\n",
    "    \n",
    "    for i in range(random.randint(1, 3)):\n",
    "        child_id = id_list[0]\n",
    "        id_list = id_list[1:]\n",
    "        child_node = nd.Node(child_id, [], False)\n",
    "        gen_subtree(child_node, depth + 1, id_list)\n",
    "        node.children.append(child_node)\n",
    "    \n",
    "    return"
   ]
  },
  {
   "cell_type": "code",
   "execution_count": 3,
   "metadata": {},
   "outputs": [],
   "source": [
    "subtrees1 = []\n",
    "for i in range(100):\n",
    "    id_list = random.sample(list(range(2, 14)), 12)\n",
    "    node = nd.Node(id_list[0], [], False)\n",
    "    gen_subtree(node, 1, id_list)\n",
    "    subtrees1.append(node)\n",
    "\n",
    "subtrees2 = []\n",
    "for i in range(100):\n",
    "    id_list = random.sample(list(range(2, 14)), 12)\n",
    "    node = nd.Node(id_list[0], [], False)\n",
    "    gen_subtree(node, 1, id_list)\n",
    "    subtrees2.append(node)"
   ]
  },
  {
   "cell_type": "markdown",
   "metadata": {},
   "source": [
    "# 全ての部分木を抽出した場合"
   ]
  },
  {
   "cell_type": "code",
   "execution_count": 4,
   "metadata": {},
   "outputs": [],
   "source": [
    "def calc_tree_similarity_by_all_subtree(subtree1, subtree2):\n",
    "    all_subtree1 = {}\n",
    "    es.extract_subtree(subtree1, all_subtree1)\n",
    "    all_subtree2 = {}\n",
    "    es.extract_subtree(subtree2, all_subtree2)\n",
    "\n",
    "    all_subtree_list1 = []\n",
    "    for value in all_subtree1.values():\n",
    "        all_subtree_list1.extend(value)\n",
    "    all_subtree_list2 = []\n",
    "    for value in all_subtree2.values():\n",
    "        all_subtree_list2.extend(value)\n",
    "        \n",
    "    matched_cnt = 0\n",
    "    for value1 in all_subtree_list1:\n",
    "        for value2 in all_subtree_list2:\n",
    "            if value1.to_dict() == value2.to_dict():\n",
    "                matched_cnt += 1\n",
    "    return matched_cnt / min(len(all_subtree_list1), len(all_subtree_list2))"
   ]
  },
  {
   "cell_type": "code",
   "execution_count": 5,
   "metadata": {},
   "outputs": [
    {
     "name": "stdout",
     "output_type": "stream",
     "text": [
      "[0.0, 0.0, 0.0, 0.0, 0.0, 0.0, 0.0, 0.0, 0.0, 0.0, 0.06666666666666667, 0.0, 0.0, 0.0, 0.0, 0.0, 0.0, 0.0, 0.0, 0.06666666666666667, 0.0, 0.0, 0.0, 0.0, 0.0, 0.0, 0.0, 0.0, 0.0, 0.0, 0.0, 0.0, 0.05555555555555555, 0.0, 0.0, 0.0, 0.018518518518518517, 0.06666666666666667, 0.0, 0.0, 0.1111111111111111, 0.0, 0.0, 0.0, 0.0, 0.0, 0.0, 0.0, 0.14285714285714285, 0.0, 0.0, 0.0, 0.0, 0.0, 0.14285714285714285, 0.0, 0.0, 0.14285714285714285, 0.26666666666666666, 0.0, 0.0, 0.0, 0.0, 0.0, 0.0, 0.0, 0.0, 0.0, 0.0, 0.0, 0.2, 0.0, 0.0, 0.1111111111111111, 0.0, 0.0, 0.0, 0.0, 0.0, 0.0, 0.0, 0.0, 0.06666666666666667, 0.0, 0.0, 0.0, 0.0, 0.0, 0.0, 0.0, 0.0, 0.0, 0.0, 0.0, 0.0, 0.0, 0.0023752969121140144, 0.0, 0.0, 0.0]\n"
     ]
    }
   ],
   "source": [
    "all_subtree = []\n",
    "for i in range(len(subtrees1)):\n",
    "    tree_similarity = calc_tree_similarity_by_all_subtree(subtrees1[i], subtrees2[i])\n",
    "    all_subtree.append(tree_similarity)\n",
    "\n",
    "print(all_subtree)"
   ]
  },
  {
   "cell_type": "markdown",
   "metadata": {},
   "source": [
    "# 親子関係のみ抽出した場合"
   ]
  },
  {
   "cell_type": "code",
   "execution_count": 6,
   "metadata": {},
   "outputs": [],
   "source": [
    "def calc_tree_similarity_by_parent_child(subtree1, subtree2):\n",
    "    parent_child1 = es.extract_parent_child(subtree1)\n",
    "    parent_child2 = es.extract_parent_child(subtree2)\n",
    "\n",
    "    matched_cnt = 0\n",
    "    for value1 in parent_child1:\n",
    "        for value2 in parent_child2:\n",
    "            if value1[\"id\"] == value2[\"id\"] and value1[\"child\"] == value2[\"child\"]:\n",
    "                matched_cnt += 1\n",
    "    return matched_cnt / min(len(parent_child1), len(parent_child2))"
   ]
  },
  {
   "cell_type": "code",
   "execution_count": 7,
   "metadata": {},
   "outputs": [
    {
     "name": "stdout",
     "output_type": "stream",
     "text": [
      "[0.0, 0.0, 0.0, 0.0, 0.0, 0.0, 0.0, 0.0, 0.0, 0.0, 0.25, 0.0, 0.0, 0.0, 0.0, 0.0, 0.0, 0.0, 0.0, 0.25, 0.0, 0.0, 0.0, 0.0, 0.0, 0.0, 0.0, 0.0, 0.0, 0.0, 0.0, 0.0, 0.2, 0.0, 0.0, 0.0, 0.14285714285714285, 0.25, 0.0, 0.0, 0.4, 0.0, 0.0, 0.0, 0.0, 0.0, 0.0, 0.0, 0.3333333333333333, 0.0, 0.0, 0.0, 0.0, 0.0, 0.3333333333333333, 0.0, 0.0, 0.3333333333333333, 0.8333333333333334, 0.0, 0.0, 0.0, 0.0, 0.0, 0.0, 0.0, 0.0, 0.0, 0.0, 0.0, 0.5, 0.0, 0.0, 0.4, 0.0, 0.0, 0.0, 0.0, 0.0, 0.0, 0.0, 0.0, 0.25, 0.0, 0.0, 0.0, 0.0, 0.0, 0.0, 0.0, 0.0, 0.0, 0.0, 0.0, 0.0, 0.0, 0.09090909090909091, 0.0, 0.0, 0.0]\n"
     ]
    }
   ],
   "source": [
    "parent_child = []\n",
    "for i in range(len(subtrees1)):\n",
    "    tree_similarity = calc_tree_similarity_by_parent_child(subtrees1[i], subtrees2[i])\n",
    "    parent_child.append(tree_similarity)\n",
    "\n",
    "print(parent_child)"
   ]
  },
  {
   "cell_type": "markdown",
   "metadata": {},
   "source": [
    "# 兄弟関係も考慮した場合"
   ]
  },
  {
   "cell_type": "code",
   "execution_count": 8,
   "metadata": {},
   "outputs": [],
   "source": [
    "def calc_tree_similarity_by_brothers(subtree1, subtree2):\n",
    "    subtree_list1 = es.extract_parent_brothers(subtree1)\n",
    "    subtree_list2 = es.extract_parent_brothers(subtree2)\n",
    "\n",
    "    matched_cnt = 0\n",
    "    for value1 in subtree_list1:\n",
    "        for value2 in subtree_list2:\n",
    "            if value1.to_dict() == value2.to_dict():\n",
    "                matched_cnt += 1\n",
    "    \n",
    "    return matched_cnt / min(len(subtree_list1), len(subtree_list2))"
   ]
  },
  {
   "cell_type": "code",
   "execution_count": 9,
   "metadata": {},
   "outputs": [
    {
     "name": "stdout",
     "output_type": "stream",
     "text": [
      "[0.0, 0.0, 0.0, 0.0, 0.0, 0.0, 0.0, 0.0, 0.0, 0.0, 0.125, 0.0, 0.0, 0.0, 0.0, 0.0, 0.0, 0.0, 0.0, 0.125, 0.0, 0.0, 0.0, 0.0, 0.0, 0.0, 0.0, 0.0, 0.0, 0.0, 0.0, 0.0, 0.14285714285714285, 0.0, 0.0, 0.0, 0.07692307692307693, 0.125, 0.0, 0.0, 0.2857142857142857, 0.0, 0.0, 0.0, 0.0, 0.0, 0.0, 0.0, 0.25, 0.0, 0.0, 0.0, 0.0, 0.0, 0.25, 0.0, 0.0, 0.25, 0.6666666666666666, 0.0, 0.0, 0.0, 0.0, 0.0, 0.0, 0.0, 0.0, 0.0, 0.0, 0.0, 0.4, 0.0, 0.0, 0.2857142857142857, 0.0, 0.0, 0.0, 0.0, 0.0, 0.0, 0.0, 0.0, 0.14285714285714285, 0.0, 0.0, 0.0, 0.0, 0.0, 0.0, 0.0, 0.0, 0.0, 0.0, 0.0, 0.0, 0.0, 0.041666666666666664, 0.0, 0.0, 0.0]\n"
     ]
    }
   ],
   "source": [
    "brothers = []\n",
    "for i in range(len(subtrees1)):\n",
    "    tree_similarity = calc_tree_similarity_by_brothers(subtrees1[i], subtrees2[i])\n",
    "    brothers.append(tree_similarity)\n",
    "\n",
    "print(brothers)"
   ]
  },
  {
   "cell_type": "code",
   "execution_count": 11,
   "metadata": {},
   "outputs": [
    {
     "data": {
      "text/plain": [
       "<Axes: ylabel='Count'>"
      ]
     },
     "execution_count": 11,
     "metadata": {},
     "output_type": "execute_result"
    },
    {
     "data": {
      "image/png": "[encoded data removed]",
      "text/plain": [
       "<Figure size 640x480 with 1 Axes>"
      ]
     },
     "metadata": {},
     "output_type": "display_data"
    }
   ],
   "source": [
    "import seaborn as sns\n",
    "sns.set()\n",
    "\n",
    "sns.histplot(all_subtree, bins=5, color=\"black\")\n",
    "sns.histplot(parent_child, bins=5, color=\"red\")\n",
    "sns.histplot(brothers, bins=5, color=\"blue\")"
   ]
  }
 ],
 "metadata": {
  "kernelspec": {
   "display_name": "Python 3 (ipykernel)",
   "language": "python",
   "name": "python3"
  },
  "language_info": {
   "codemirror_mode": {
    "name": "ipython",
    "version": 3
   },
   "file_extension": ".py",
   "mimetype": "text/x-python",
   "name": "python",
   "nbconvert_exporter": "python",
   "pygments_lexer": "ipython3",
   "version": "3.11.5"
  }
 },
 "nbformat": 4,
 "nbformat_minor": 2
}
