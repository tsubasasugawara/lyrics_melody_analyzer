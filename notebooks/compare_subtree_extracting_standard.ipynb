{
 "cells": [
  {
   "cell_type": "code",
   "execution_count": 1,
   "metadata": {},
   "outputs": [],
   "source": [
    "import os\n",
    "os.chdir(\"/alm\")"
   ]
  },
  {
   "cell_type": "code",
   "execution_count": 2,
   "metadata": {},
   "outputs": [],
   "source": [
    "from alm.node import node as nd\n",
    "\n",
    "subtree1 = nd.Node(\n",
    "    1,\n",
    "    [\n",
    "        nd.Node(\n",
    "            2,\n",
    "            [\n",
    "                nd.Node(\n",
    "                    5,\n",
    "                    [],\n",
    "                    True\n",
    "                ),\n",
    "                nd.Node(\n",
    "                    6,\n",
    "                    [],\n",
    "                    True\n",
    "                ),\n",
    "            ],\n",
    "            False\n",
    "        ),\n",
    "        nd.Node(\n",
    "            3,\n",
    "            [\n",
    "                nd.Node(\n",
    "                    7,\n",
    "                    [],\n",
    "                    True\n",
    "                ),\n",
    "            ],\n",
    "            False\n",
    "        ),\n",
    "        nd.Node(\n",
    "            4,\n",
    "            [\n",
    "                nd.Node(\n",
    "                    8,\n",
    "                    [],\n",
    "                    True\n",
    "                ),\n",
    "            ],\n",
    "            False\n",
    "        ),\n",
    "    ],\n",
    "    False\n",
    ")\n",
    "\n",
    "subtree2 = nd.Node(\n",
    "    5,\n",
    "    [\n",
    "        nd.Node(\n",
    "            2,\n",
    "            [\n",
    "                nd.Node(\n",
    "                    4,\n",
    "                    [],\n",
    "                    True\n",
    "                ),\n",
    "                nd.Node(\n",
    "                    6,\n",
    "                    [],\n",
    "                    True\n",
    "                ),\n",
    "            ],\n",
    "            False\n",
    "        ),\n",
    "        nd.Node(\n",
    "            8,\n",
    "            [\n",
    "                nd.Node(\n",
    "                    1,\n",
    "                    [],\n",
    "                    True\n",
    "                ),\n",
    "            ],\n",
    "            False\n",
    "        ),\n",
    "        nd.Node(\n",
    "            3,\n",
    "            [\n",
    "                nd.Node(\n",
    "                    7,\n",
    "                    [],\n",
    "                    True\n",
    "                ),\n",
    "            ],\n",
    "            False\n",
    "        ),\n",
    "    ],\n",
    "    False\n",
    ")\n",
    "\n"
   ]
  },
  {
   "cell_type": "markdown",
   "metadata": {},
   "source": [
    "# 全ての部分木を抽出した場合"
   ]
  },
  {
   "cell_type": "code",
   "execution_count": 3,
   "metadata": {},
   "outputs": [
    {
     "name": "stdout",
     "output_type": "stream",
     "text": [
      "0.04081632653061224\n"
     ]
    }
   ],
   "source": [
    "from alm.comparator import extracting_subtree as es\n",
    "\n",
    "all_subtree1 = {}\n",
    "es.extract_subtree(subtree1, all_subtree1)\n",
    "all_subtree2 = {}\n",
    "es.extract_subtree(subtree2, all_subtree2)\n",
    "\n",
    "all_subtree_list1 = []\n",
    "for value in all_subtree1.values():\n",
    "    all_subtree_list1.extend(value)\n",
    "all_subtree_list2 = []\n",
    "for value in all_subtree2.values():\n",
    "    all_subtree_list2.extend(value)\n",
    "    \n",
    "matched_cnt = 0\n",
    "for value1 in all_subtree_list1:\n",
    "    for value2 in all_subtree_list2:\n",
    "        if value1.to_dict() == value2.to_dict():\n",
    "            matched_cnt += 1\n",
    "print(matched_cnt / min(len(all_subtree_list1), len(all_subtree_list2)))"
   ]
  },
  {
   "cell_type": "markdown",
   "metadata": {},
   "source": [
    "# 親子関係のみ抽出した場合"
   ]
  },
  {
   "cell_type": "code",
   "execution_count": 4,
   "metadata": {},
   "outputs": [
    {
     "name": "stdout",
     "output_type": "stream",
     "text": [
      "0.2857142857142857\n"
     ]
    }
   ],
   "source": [
    "parent_child1 = es.extract_parent_child(subtree1)\n",
    "parent_child2 = es.extract_parent_child(subtree2)\n",
    "\n",
    "matched_cnt = 0\n",
    "for value1 in parent_child1:\n",
    "    for value2 in parent_child2:\n",
    "        if value1[\"id\"] == value2[\"id\"] and value1[\"child\"] == value2[\"child\"]:\n",
    "            matched_cnt += 1\n",
    "print(matched_cnt / min(len(parent_child1), len(parent_child2)))"
   ]
  }
 ],
 "metadata": {
  "kernelspec": {
   "display_name": "Python 3 (ipykernel)",
   "language": "python",
   "name": "python3"
  },
  "language_info": {
   "codemirror_mode": {
    "name": "ipython",
    "version": 3
   },
   "file_extension": ".py",
   "mimetype": "text/x-python",
   "name": "python",
   "nbconvert_exporter": "python",
   "pygments_lexer": "ipython3",
   "version": "3.11.4"
  }
 },
 "nbformat": 4,
 "nbformat_minor": 2
}
